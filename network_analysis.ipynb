{
 "cells": [
  {
   "cell_type": "markdown",
   "metadata": {},
   "source": [
    "## PHY 411: Final Project\n",
    "### Jeremy Kazimer\n",
    "### 5018-1732"
   ]
  },
  {
   "cell_type": "markdown",
   "metadata": {},
   "source": [
    "---"
   ]
  },
  {
   "cell_type": "markdown",
   "metadata": {},
   "source": [
    "#### _Import Statements_"
   ]
  },
  {
   "cell_type": "markdown",
   "metadata": {},
   "source": [
    "To begin this portion of the project, we import the Python file I created which contains the network class and its methods:"
   ]
  },
  {
   "cell_type": "code",
   "execution_count": 1,
   "metadata": {},
   "outputs": [],
   "source": [
    "from generate_network import *"
   ]
  },
  {
   "cell_type": "markdown",
   "metadata": {},
   "source": [
    "Consider that an explanation of the code is partially within the .py itself, but also in the documentation on GitHub.  We can also import `numpy`, `matplotlib`, and `time` such that we can use their code here:"
   ]
  },
  {
   "cell_type": "code",
   "execution_count": 36,
   "metadata": {},
   "outputs": [],
   "source": [
    "import time\n",
    "import numpy as np\n",
    "from matplotlib import pyplot as plt"
   ]
  },
  {
   "cell_type": "markdown",
   "metadata": {},
   "source": [
    "Now, we can begin to generate networks."
   ]
  },
  {
   "cell_type": "markdown",
   "metadata": {},
   "source": [
    "#### _Generating Networks_"
   ]
  },
  {
   "cell_type": "markdown",
   "metadata": {},
   "source": [
    "For an Erdős–Rényi network, the only parameters needed to create it are the numbers of nodes $N$ and the edge probability $p$.  These generate a random number of edges each time, but in general it gravitates around the value\n",
    "\n",
    "\\begin{equation}\n",
    "\\bar{M} = \\dfrac{N\\left[N - 1\\right]}{2} \\cdot p\n",
    "\\end{equation}\n",
    "\n",
    "The derivation of this can be found in theory.  Furthermore, the graph is random in the sense that their placement with respect to the nodes is also random.  With that, since both of those conditions are random but constrained according to the initial conditions, we can take that into consideration later with respect to the Monte Carlo simulation.  Regardless, we can generate a network with the following conditions:"
   ]
  },
  {
   "cell_type": "code",
   "execution_count": 5,
   "metadata": {},
   "outputs": [],
   "source": [
    "N = 100\n",
    "p = 0.25"
   ]
  },
  {
   "cell_type": "code",
   "execution_count": 6,
   "metadata": {},
   "outputs": [],
   "source": [
    "G = Erdos_Renyi_GNP(N, p)"
   ]
  },
  {
   "cell_type": "code",
   "execution_count": 8,
   "metadata": {},
   "outputs": [
    {
     "data": {
      "image/png": "[encoded data removed]",
      "text/plain": [
       "<Figure size 288x288 with 1 Axes>"
      ]
     },
     "metadata": {
      "needs_background": "light"
     },
     "output_type": "display_data"
    }
   ],
   "source": [
    "fig, ax = G.plot_graph()"
   ]
  },
  {
   "cell_type": "markdown",
   "metadata": {},
   "source": [
    "With that, we can validate properties of our network:"
   ]
  },
  {
   "cell_type": "markdown",
   "metadata": {},
   "source": [
    "#### _Graph Validation_"
   ]
  },
  {
   "cell_type": "markdown",
   "metadata": {},
   "source": [
    "There are a few ways to verify that our creation is vaguely correct.  Remember that it is random and therefore there are not always exact values to compare.  The first we can do is assert that the shape of the adjacency is $N \\times N$:"
   ]
  },
  {
   "cell_type": "code",
   "execution_count": 11,
   "metadata": {},
   "outputs": [],
   "source": [
    "assert(G.A.shape == (N, N))"
   ]
  },
  {
   "cell_type": "markdown",
   "metadata": {},
   "source": [
    "Moreover, the number of edges should vaguely be between\n",
    "\n",
    "\\begin{equation}\n",
    "\\dfrac{N\\left[N - 1\\right]}{2} \\cdot p\n",
    "\\end{equation}"
   ]
  },
  {
   "cell_type": "markdown",
   "metadata": {},
   "source": [
    "Although we don't have a precise form for a standard deviation right now, for now we can treat it as \n",
    "\n",
    "\\begin{equation}\n",
    "\\sigma_{\\bar{M}} = 10\\% \\cdot \\bar{M}\n",
    "\\end{equation}"
   ]
  },
  {
   "cell_type": "code",
   "execution_count": 26,
   "metadata": {},
   "outputs": [],
   "source": [
    "bar_m = lambda N, p: N*(N - 1)/2 * p\n",
    "std_m = lambda N, p: 0.10 * bar_m(N, p)"
   ]
  },
  {
   "cell_type": "code",
   "execution_count": 28,
   "metadata": {},
   "outputs": [],
   "source": [
    "assert((G.M < bar_m(N, p) + std_m(N, p)) and (G.M > bar_m(N, p) - std_m(N, p)))"
   ]
  },
  {
   "cell_type": "markdown",
   "metadata": {},
   "source": [
    "Just to assert that this isn't the case for just this particular graph, we can iterate over and do the same:"
   ]
  },
  {
   "cell_type": "code",
   "execution_count": 30,
   "metadata": {},
   "outputs": [],
   "source": [
    "for _ in range(1000):\n",
    "    G1 = Erdos_Renyi_GNP(N, p)\n",
    "    assert((G1.M < bar_m(N, p) + std_m(N, p)) and (G1.M > bar_m(N, p) - std_m(N, p)))"
   ]
  },
  {
   "cell_type": "markdown",
   "metadata": {},
   "source": [
    "Besides that, we can also check that the length of the current edges (values of 1) and the length of the potential edges (values of 0) sum to be the total possible number of edges\n",
    "\n",
    "\\begin{equation}\n",
    "\\dfrac{N\\left[N - 1\\right]}{2}\n",
    "\\end{equation}"
   ]
  },
  {
   "cell_type": "code",
   "execution_count": 35,
   "metadata": {},
   "outputs": [],
   "source": [
    "assert(G.edges.shape[0] == G.M)\n",
    "assert(G.edges.shape[0] + G.potential_edges.shape[0] == G.N*(G.N - 1)/2)"
   ]
  },
  {
   "cell_type": "markdown",
   "metadata": {},
   "source": [
    "With that, we can now time this code to ensure that it's viable on a device like the Pi Zero W:"
   ]
  },
  {
   "cell_type": "markdown",
   "metadata": {},
   "source": [
    "#### _Runtime Analysis_"
   ]
  },
  {
   "cell_type": "markdown",
   "metadata": {},
   "source": [
    "Of course, the first thing that should be done is checking how long the creation of a network takes, $t$, for some odd amount of trials.  Here, we'll re-use the same initial conditions:"
   ]
  },
  {
   "cell_type": "code",
   "execution_count": 85,
   "metadata": {},
   "outputs": [],
   "source": [
    "trials = 1000\n",
    "\n",
    "ts = np.zeros((trials))\n",
    "Ms = np.zeros((trials))\n",
    "\n",
    "for trial in range(trials):\n",
    "    \n",
    "    t0 = time.time()\n",
    "    G1 = Erdos_Renyi_GNP(N, p)\n",
    "    t1 = time.time()\n",
    "    \n",
    "    ts[trial] = t1 - t0\n",
    "    Ms[trial] = G1.M"
   ]
  },
  {
   "cell_type": "code",
   "execution_count": 86,
   "metadata": {},
   "outputs": [
    {
     "data": {
      "image/png": "[encoded data removed]",
      "text/plain": [
       "<Figure size 432x288 with 1 Axes>"
      ]
     },
     "metadata": {
      "needs_background": "light"
     },
     "output_type": "display_data"
    }
   ],
   "source": [
    "fig, ax = plt.subplots(1, 1)\n",
    "\n",
    "ax.hist(ts, 100, color = 'black');\n",
    "\n",
    "ax.set_ylabel('counts', fontsize = 14)\n",
    "ax.set_xlabel('time taken to create network', fontsize = 14)\n",
    "\n",
    "fig.tight_layout()"
   ]
  },
  {
   "cell_type": "markdown",
   "metadata": {},
   "source": [
    "We see in general that the times are fairly close to zero, but there exists a noticeable chunk separated from the rest...could this be dependent on the number of edges? Consider that the only thing that changes is $M$, since it's purely probabilistic.  So, we can look at that:"
   ]
  },
  {
   "cell_type": "code",
   "execution_count": 87,
   "metadata": {},
   "outputs": [
    {
     "data": {
      "image/png": "[encoded data removed]",
      "text/plain": [
       "<Figure size 432x288 with 1 Axes>"
      ]
     },
     "metadata": {
      "needs_background": "light"
     },
     "output_type": "display_data"
    }
   ],
   "source": [
    "fig, ax = plt.subplots(1, 1)\n",
    "\n",
    "ax.scatter(Ms, ts, alpha = 0.25, c = 'black')\n",
    "\n",
    "ax.set_ylabel('computation time, $t$', fontsize = 14)\n",
    "ax.set_xlabel('number of edges, $M$', fontsize = 14)\n",
    "\n",
    "fig.tight_layout();"
   ]
  },
  {
   "cell_type": "markdown",
   "metadata": {},
   "source": [
    "We see here that this is not the case.  This is good to establish in order to understand that sometimes things just take longer for internal reasons.  OK, so we've established for the case where $N$ and $p$ don't vary, but what about the cases where they do? For now, we'll only vary $N$:"
   ]
  },
  {
   "cell_type": "code",
   "execution_count": 88,
   "metadata": {},
   "outputs": [],
   "source": [
    "trials = 100\n",
    "\n",
    "Ns = np.arange(2, 250, 2)\n",
    "ts = np.zeros((Ns.shape[0], trials))\n",
    "\n",
    "for trial in range(trials):\n",
    "    for N in Ns:\n",
    "        t0 = time.time()\n",
    "        G1 = Erdos_Renyi_GNP(N, p)\n",
    "        t1 = time.time()\n",
    "\n",
    "        ts[N//2 - 1, trial] = t1 - t0"
   ]
  },
  {
   "cell_type": "markdown",
   "metadata": {},
   "source": [
    "Here, we take the average of the trials.  Otherwise, there would be too many data points to take into consideration.  We attach errorbars such that we can see how much they deviate by:"
   ]
  },
  {
   "cell_type": "code",
   "execution_count": 89,
   "metadata": {},
   "outputs": [],
   "source": [
    "bar_ts = np.mean(ts, axis = 1)\n",
    "std_ts = np.mean(ts, axis = 1)\n",
    "err_ts = std_ts/np.sqrt(trials)"
   ]
  },
  {
   "cell_type": "code",
   "execution_count": 91,
   "metadata": {},
   "outputs": [
    {
     "data": {
      "image/png": "[encoded data removed]",
      "text/plain": [
       "<Figure size 864x432 with 1 Axes>"
      ]
     },
     "metadata": {
      "needs_background": "light"
     },
     "output_type": "display_data"
    }
   ],
   "source": [
    "fig, ax = plt.subplots(1, 1, figsize = (12, 6))\n",
    "\n",
    "ax.errorbar(Ns, bar_ts, yerr = err_ts, fmt = 'o', c = 'k', alpha = 0.5)\n",
    "\n",
    "ax.set_ylabel('computation time, $t$', fontsize = 14)\n",
    "ax.set_xlabel('network size, $N$', fontsize = 14)\n",
    "\n",
    "fig.tight_layout()"
   ]
  },
  {
   "cell_type": "markdown",
   "metadata": {},
   "source": [
    "We see that the distribution tends to spread out as $N$ increases.  This is probably suggesting that $\\sigma_{\\bar{M}}$ is a function of $N$, which is assumed to be true.  Regardless, we see that it scales strongly with $N$, but how strong? We can implement a log fit such that\n",
    "\n",
    "\\begin{equation}\n",
    "\\log(t) = A \\cdot \\log(N) + B\n",
    "\\end{equation}\n",
    "\n",
    "where $A$ is the log slope and $B$ is the log intercept.  Then, our leading runtime coefficient $c$ and base case $d$ would be\n",
    "\\begin{equation}\n",
    "c = e^{A}\n",
    "\\end{equation}\n",
    "\n",
    "and\n",
    "\n",
    "\\begin{equation}\n",
    "d = e^{B}\n",
    "\\end{equation}\n",
    "\n",
    "Consider this comes from the form $\\mathcal{O}(N^c)$ where we predict that the graph will scale with $N$, since that parameter is the one that we changed. Taking the log of both sides brings the coefficient to a product, due to log rules.  Now, applying this:"
   ]
  },
  {
   "cell_type": "code",
   "execution_count": 106,
   "metadata": {},
   "outputs": [],
   "source": [
    "c, d = np.exp(np.polyfit(np.log(Ns), np.log(bar_ts), 1))"
   ]
  },
  {
   "cell_type": "code",
   "execution_count": 107,
   "metadata": {},
   "outputs": [
    {
     "name": "stdout",
     "output_type": "stream",
     "text": [
      "2.307150002267518 1.224291726622889e-05\n"
     ]
    }
   ],
   "source": [
    "print(c, d)"
   ]
  },
  {
   "cell_type": "markdown",
   "metadata": {},
   "source": [
    "Of course, $d$ should really be zero since nothing would calculate for a network of size $0$.  However, $c$ in general agrees with our understanding.  Since the size of the array scales via $N \\times N$, we see this to be $N^2$.  This means at the very least the runtime coefficient should be no smaller than this.  However, in our functions there are other processes at play such that it's more realistic this $c$ value comes from `numpy` not being able to bring vector operations down to scale precisely with the size of the array.  \n",
    "\n",
    "Regardless, it is good to see our program is close to its maximal efficiency.  Note that this is **not** the fit of the line, but rather fitting the data to find the coefficient of the leading $N$ term.  We could now apply `np.polyfit` and round up or down the coefficient and apply a proper fit, but that isn't necessary at this point."
   ]
  },
  {
   "cell_type": "markdown",
   "metadata": {},
   "source": [
    "## To be continued..."
   ]
  }
 ],
 "metadata": {
  "kernelspec": {
   "display_name": "Python 3",
   "language": "python",
   "name": "python3"
  },
  "language_info": {
   "codemirror_mode": {
    "name": "ipython",
    "version": 3
   },
   "file_extension": ".py",
   "mimetype": "text/x-python",
   "name": "python",
   "nbconvert_exporter": "python",
   "pygments_lexer": "ipython3",
   "version": "3.8.3"
  }
 },
 "nbformat": 4,
 "nbformat_minor": 2
}
