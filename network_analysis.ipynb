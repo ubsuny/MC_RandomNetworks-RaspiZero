{
 "cells": [
  {
   "cell_type": "markdown",
   "metadata": {},
   "source": [
    "## PHY 411: Final Project\n",
    "### Jeremy Kazimer\n",
    "### 5018-1732"
   ]
  },
  {
   "cell_type": "markdown",
   "metadata": {},
   "source": [
    "---"
   ]
  },
  {
   "cell_type": "markdown",
   "metadata": {},
   "source": [
    "#### _Import Statements_"
   ]
  },
  {
   "cell_type": "markdown",
   "metadata": {},
   "source": [
    "To begin this portion of the project, we import the Python file I created which contains the network class and its methods:"
   ]
  },
  {
   "cell_type": "code",
   "execution_count": 1,
   "metadata": {},
   "outputs": [],
   "source": [
    "from generate_network import *"
   ]
  },
  {
   "cell_type": "markdown",
   "metadata": {},
   "source": [
    "Consider that an explanation of the code is partially within the .py itself, but also in the documentation on GitHub.  We can also import `numpy` and `matplotlib` such that we can use their code here:"
   ]
  },
  {
   "cell_type": "code",
   "execution_count": 4,
   "metadata": {},
   "outputs": [],
   "source": [
    "import numpy as np\n",
    "from matplotlib import pyplot as plt"
   ]
  },
  {
   "cell_type": "markdown",
   "metadata": {},
   "source": [
    "Now, we can begin to generate networks."
   ]
  },
  {
   "cell_type": "markdown",
   "metadata": {},
   "source": [
    "#### _Generating Networks_"
   ]
  },
  {
   "cell_type": "markdown",
   "metadata": {},
   "source": [
    "For an Erdős–Rényi network, the only parameters needed to create it are the numbers of nodes $N$ and the edge probability $p$.  These generate a random number of edges each time, but in general it gravitates around the value\n",
    "\n",
    "\\begin{equation}\n",
    "\\bar{M} = \\dfrac{N\\left[N - 1\\right]}{2} \\cdot p\n",
    "\\end{equation}\n",
    "\n",
    "The derivation of this can be found in theory.  Furthermore, the graph is random in the sense that their placement with respect to the nodes is also random.  With that, since both of those conditions are random but constrained according to the initial conditions, we can take that into consideration later with respect to the Monte Carlo simulation.  Regardless, we can generate a network with the following conditions:"
   ]
  },
  {
   "cell_type": "code",
   "execution_count": 5,
   "metadata": {},
   "outputs": [],
   "source": [
    "N = 100\n",
    "p = 0.25"
   ]
  },
  {
   "cell_type": "code",
   "execution_count": 6,
   "metadata": {},
   "outputs": [],
   "source": [
    "G = Erdos_Renyi_GNP(N, p)"
   ]
  },
  {
   "cell_type": "code",
   "execution_count": 8,
   "metadata": {},
   "outputs": [
    {
     "data": {
      "image/png": "[encoded data removed]",
      "text/plain": [
       "<Figure size 288x288 with 1 Axes>"
      ]
     },
     "metadata": {
      "needs_background": "light"
     },
     "output_type": "display_data"
    }
   ],
   "source": [
    "fig, ax = G.plot_graph()"
   ]
  },
  {
   "cell_type": "markdown",
   "metadata": {},
   "source": [
    "With that, we can validate properties of our network:"
   ]
  },
  {
   "cell_type": "markdown",
   "metadata": {},
   "source": [
    "#### _Graph Validation_"
   ]
  },
  {
   "cell_type": "markdown",
   "metadata": {},
   "source": [
    "There are a few ways to verify that our creation is vaguely correct.  Remember that it is random and therefore there are not always exact values to compare.  The first we can do is assert that the shape of the adjacency is $N \\times N$:"
   ]
  },
  {
   "cell_type": "code",
   "execution_count": 11,
   "metadata": {},
   "outputs": [],
   "source": [
    "assert(G.A.shape == (N, N))"
   ]
  },
  {
   "cell_type": "markdown",
   "metadata": {},
   "source": [
    "Moreover, the number of edges should vaguely be between\n",
    "\n",
    "\\begin{equation}\n",
    "\\dfrac{N\\left[N - 1\\right]}{2} \\cdot p\n",
    "\\end{equation}"
   ]
  },
  {
   "cell_type": "markdown",
   "metadata": {},
   "source": [
    "Although we don't have a precise form for a standard deviation right now, for now we can treat it as \n",
    "\n",
    "\\begin{equation}\n",
    "\\sigma_{\\bar{M}} = 10\\% \\cdot \\bar{M}\n",
    "\\end{equation}"
   ]
  },
  {
   "cell_type": "code",
   "execution_count": 26,
   "metadata": {},
   "outputs": [],
   "source": [
    "bar_m = lambda N, p: N*(N - 1)/2 * p\n",
    "std_m = lambda N, p: 0.10 * bar_m(N, p)"
   ]
  },
  {
   "cell_type": "code",
   "execution_count": 28,
   "metadata": {},
   "outputs": [],
   "source": [
    "assert((G.M < bar_m(N, p) + std_m(N, p)) and (G.M > bar_m(N, p) - std_m(N, p)))"
   ]
  },
  {
   "cell_type": "markdown",
   "metadata": {},
   "source": [
    "Just to assert that this isn't the case for just this particular graph, we can iterate over and do the same:"
   ]
  },
  {
   "cell_type": "code",
   "execution_count": 30,
   "metadata": {},
   "outputs": [],
   "source": [
    "for _ in range(1000):\n",
    "    G1 = Erdos_Renyi_GNP(N, p)\n",
    "    assert((G1.M < bar_m(N, p) + std_m(N, p)) and (G1.M > bar_m(N, p) - std_m(N, p)))"
   ]
  },
  {
   "cell_type": "markdown",
   "metadata": {},
   "source": [
    "Besides that, we can also check that the length of the current edges (values of 1) and the length of the potential edges (values of 0) sum to be the total possible number of edges\n",
    "\n",
    "\\begin{equation}\n",
    "\\dfrac{N\\left[N - 1\\right]}{2}\n",
    "\\end{equation}"
   ]
  },
  {
   "cell_type": "code",
   "execution_count": 35,
   "metadata": {},
   "outputs": [],
   "source": [
    "assert(G.edges.shape[0] == G.M)\n",
    "assert(G.edges.shape[0] + G.potential_edges.shape[0] == G.N*(G.N - 1)/2)"
   ]
  },
  {
   "cell_type": "markdown",
   "metadata": {},
   "source": [
    "## To be continued..."
   ]
  }
 ],
 "metadata": {
  "kernelspec": {
   "display_name": "Python 3",
   "language": "python",
   "name": "python3"
  },
  "language_info": {
   "codemirror_mode": {
    "name": "ipython",
    "version": 3
   },
   "file_extension": ".py",
   "mimetype": "text/x-python",
   "name": "python",
   "nbconvert_exporter": "python",
   "pygments_lexer": "ipython3",
   "version": "3.8.3"
  }
 },
 "nbformat": 4,
 "nbformat_minor": 2
}
