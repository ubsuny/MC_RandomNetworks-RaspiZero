{
 "cells": [
  {
   "cell_type": "markdown",
   "metadata": {},
   "source": [
    "## PHY 411: Final Project\n",
    "### Jeremy Kazimer\n",
    "### 5018-1732"
   ]
  },
  {
   "cell_type": "markdown",
   "metadata": {},
   "source": [
    "---"
   ]
  },
  {
   "cell_type": "markdown",
   "metadata": {},
   "source": [
    "#### _Import Statements_"
   ]
  },
  {
   "cell_type": "markdown",
   "metadata": {},
   "source": [
    "To begin this portion of the project, we import the Python file I created which contains the network class and its methods:"
   ]
  },
  {
   "cell_type": "code",
   "execution_count": 2,
   "metadata": {},
   "outputs": [],
   "source": [
    "from generate_network import *"
   ]
  },
  {
   "cell_type": "markdown",
   "metadata": {},
   "source": [
    "Consider that an explanation of the code is partially within the .py itself, but also in the documentation on GitHub.  We can also import `numpy` and `matplotlib` such that we can use their code here:"
   ]
  },
  {
   "cell_type": "code",
   "execution_count": 61,
   "metadata": {},
   "outputs": [],
   "source": [
    "from numpy import arange, array, linspace, mean, zeros\n",
    "from matplotlib import pyplot as plt"
   ]
  },
  {
   "cell_type": "markdown",
   "metadata": {},
   "source": [
    "As always, we can begin by generating a network:"
   ]
  },
  {
   "cell_type": "markdown",
   "metadata": {},
   "source": [
    "#### _Generating Networks_"
   ]
  },
  {
   "cell_type": "markdown",
   "metadata": {},
   "source": [
    "Using the same theory from the `network_analysis.ipynb` notebook, we can create a network with parameters $N = 100$ and $p = 0.25$:"
   ]
  },
  {
   "cell_type": "code",
   "execution_count": 59,
   "metadata": {},
   "outputs": [],
   "source": [
    "N = 100\n",
    "p = 0.25"
   ]
  },
  {
   "cell_type": "code",
   "execution_count": 5,
   "metadata": {},
   "outputs": [],
   "source": [
    "G = Erdos_Renyi_GNP(N, p)"
   ]
  },
  {
   "cell_type": "markdown",
   "metadata": {},
   "source": [
    "Now, we can begin some preliminary analysis.  First, of course, on the network structure itself:"
   ]
  },
  {
   "cell_type": "markdown",
   "metadata": {},
   "source": [
    "#### _Monte Carlo Simulation on Number of Edges_"
   ]
  },
  {
   "cell_type": "markdown",
   "metadata": {},
   "source": [
    "Fundamentally, a random graph is defined by its network size $N$ and edge probability $p$.  However, a quantity necessary in forming a graph is the set of edges and subsequently the number of said edges.  Since the number of edges is itself not set as a parameter, there is not exactly a definitive number of edges.  \n",
    "\n",
    "Although, people working in network theory have derived an approximation for the mean number of edges $\\bar{M}$ such that\n",
    "\\begin{equation}\n",
    "\\bar{M} \\approx \\dfrac{N(N - 1)}{2} \\cdot p\n",
    "\\end{equation}\n",
    "\n",
    "Since $\\frac{N(N - 1)}{2}$ represents the number of possible edges for an undirected and unweighted graph, multiplying it by the probability would give the mean number of edges.  Note that this quantity is known; so we cannot exactly apply a Monte Carlo simulation in good faith here.  However, we can use Monte Carlo as a framework to verify that, for any network, this approximation is strong.  As such, we can begin by looking at one case, with our initial graph:"
   ]
  },
  {
   "cell_type": "code",
   "execution_count": 10,
   "metadata": {},
   "outputs": [],
   "source": [
    "max_edges = lambda N: N*(N - 1)/2"
   ]
  },
  {
   "cell_type": "code",
   "execution_count": 12,
   "metadata": {},
   "outputs": [
    {
     "name": "stdout",
     "output_type": "stream",
     "text": [
      "theoretical number of edges: 1237.5\n"
     ]
    }
   ],
   "source": [
    "print('theoretical number of edges: {}'.format(max_edges(G.N) * G.p))"
   ]
  },
  {
   "cell_type": "code",
   "execution_count": 13,
   "metadata": {},
   "outputs": [
    {
     "name": "stdout",
     "output_type": "stream",
     "text": [
      "actual number of edges: 1247.0\n"
     ]
    }
   ],
   "source": [
    "print('actual number of edges: {}'.format(G.M))"
   ]
  },
  {
   "cell_type": "markdown",
   "metadata": {},
   "source": [
    "So, it's fairly close, but not quite.  To better approximate this, we can easily just generate $n$ different graphs for the parameters $N = 100$ and $p = 0.25$ so that we can compare the average of the set of $n$:"
   ]
  },
  {
   "cell_type": "code",
   "execution_count": 15,
   "metadata": {},
   "outputs": [],
   "source": [
    "n = 100\n",
    "Ms = zeros(n)\n",
    "\n",
    "for i in range(n):\n",
    "    G1 = Erdos_Renyi_GNP(N, p)\n",
    "    Ms[i] = G1.M"
   ]
  },
  {
   "cell_type": "code",
   "execution_count": 29,
   "metadata": {},
   "outputs": [
    {
     "data": {
      "image/png": "[encoded data removed]",
      "text/plain": [
       "<Figure size 432x288 with 1 Axes>"
      ]
     },
     "metadata": {
      "needs_background": "light"
     },
     "output_type": "display_data"
    }
   ],
   "source": [
    "fig, ax = plt.subplots(1, 1)\n",
    "\n",
    "ax.hist(Ms, 15, color = 'blue', label = '$M$')\n",
    "ax.set_ylabel('counts', fontsize = 14)\n",
    "ax.set_xlabel('number of edges, $M$', fontsize = 14)\n",
    "\n",
    "ax.axvline(Ms.mean(), lw = 4, c = 'k', label = r'$\\bar{M}$')\n",
    "\n",
    "ax.legend(loc = 'upper right', fontsize = 14, frameon = False)\n",
    "\n",
    "fig.tight_layout();"
   ]
  },
  {
   "cell_type": "code",
   "execution_count": 30,
   "metadata": {},
   "outputs": [
    {
     "name": "stdout",
     "output_type": "stream",
     "text": [
      "actual number of edges: 1233.51\n"
     ]
    }
   ],
   "source": [
    "print('actual number of edges: {}'.format(Ms.mean()))"
   ]
  },
  {
   "cell_type": "markdown",
   "metadata": {},
   "source": [
    "So, the number is much closer! If $n$ is increased, then certainly this number will be better.  But how does it scale for different network sizes, different probabilities?"
   ]
  },
  {
   "cell_type": "code",
   "execution_count": 45,
   "metadata": {},
   "outputs": [],
   "source": [
    "Ns = arange(2, N, 4)\n",
    "Ms = zeros((n, Ns.shape[0]))\n",
    "\n",
    "for i in range(n):\n",
    "    for j, N in enumerate(Ns):\n",
    "        G1 = Erdos_Renyi_GNP(N, p)\n",
    "        Ms[i, j] = G1.M"
   ]
  },
  {
   "cell_type": "code",
   "execution_count": 58,
   "metadata": {},
   "outputs": [
    {
     "data": {
      "image/png": "[encoded data removed]",
      "text/plain": [
       "<Figure size 432x288 with 1 Axes>"
      ]
     },
     "metadata": {
      "needs_background": "light"
     },
     "output_type": "display_data"
    }
   ],
   "source": [
    "fig, ax = plt.subplots(1, 1)\n",
    "\n",
    "ax.plot(Ns, max_edges(Ns)*p, lw = 2, c = 'k', label = 'theoretical')\n",
    "ax.scatter(Ns, Ms.mean(axis = 0), c = 'blue', s = 100, alpha = 0.75, label = 'actual')\n",
    "\n",
    "ax.set_ylabel('number of edges, $M$', fontsize = 14)\n",
    "ax.set_xlabel('network size, $N$', fontsize = 14)\n",
    "\n",
    "ax.legend(loc = 'upper left', fontsize = 14, frameon = False)\n",
    "\n",
    "fig.tight_layout();"
   ]
  },
  {
   "cell_type": "markdown",
   "metadata": {},
   "source": [
    "This seems to be verified, but what about on edge probability?"
   ]
  },
  {
   "cell_type": "code",
   "execution_count": 62,
   "metadata": {},
   "outputs": [],
   "source": [
    "N = 100\n",
    "ps = linspace(0, 1, 20)\n",
    "Ms = zeros((n, ps.shape[0]))\n",
    "\n",
    "for i in range(n):\n",
    "    for j, p in enumerate(ps):\n",
    "        G1 = Erdos_Renyi_GNP(N, p)\n",
    "        Ms[i, j] = G1.M"
   ]
  },
  {
   "cell_type": "code",
   "execution_count": 64,
   "metadata": {},
   "outputs": [
    {
     "data": {
      "image/png": "[encoded data removed]",
      "text/plain": [
       "<Figure size 432x288 with 1 Axes>"
      ]
     },
     "metadata": {
      "needs_background": "light"
     },
     "output_type": "display_data"
    }
   ],
   "source": [
    "fig, ax = plt.subplots(1, 1)\n",
    "\n",
    "ax.plot(ps, max_edges(N)*ps, lw = 2, c = 'k', label = 'theoretical')\n",
    "ax.scatter(ps, Ms.mean(axis = 0), c = 'red', s = 100, alpha = 0.75, label = 'actual')\n",
    "\n",
    "ax.set_ylabel('number of edges, $M$', fontsize = 14)\n",
    "ax.set_xlabel('edge probability, $p$', fontsize = 14)\n",
    "\n",
    "ax.legend(loc = 'upper left', fontsize = 14, frameon = False)\n",
    "\n",
    "fig.tight_layout();"
   ]
  },
  {
   "cell_type": "markdown",
   "metadata": {},
   "source": [
    "Clearly, it is safe to say that these approximations work for large enough $n$.  It is no question that these mathematicians were correct in their formulations.  That aside, Monte Carlo acts as a nice medium to confirm this.  In a way, by using Monte Carlo in such a way, we confirm its validity in working on network frameworks.  By comparing it to known formulations for a random process, we've confirmed that it can be used in such a way.  This will be useful, when we stare into the unknown of networks - where such quantities are unknown."
   ]
  },
  {
   "cell_type": "markdown",
   "metadata": {},
   "source": [
    "## To be continued..."
   ]
  },
  {
   "cell_type": "code",
   "execution_count": null,
   "metadata": {},
   "outputs": [],
   "source": []
  }
 ],
 "metadata": {
  "kernelspec": {
   "display_name": "Python 3",
   "language": "python",
   "name": "python3"
  },
  "language_info": {
   "codemirror_mode": {
    "name": "ipython",
    "version": 3
   },
   "file_extension": ".py",
   "mimetype": "text/x-python",
   "name": "python",
   "nbconvert_exporter": "python",
   "pygments_lexer": "ipython3",
   "version": "3.7.4"
  }
 },
 "nbformat": 4,
 "nbformat_minor": 2
}
