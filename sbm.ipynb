{
 "cells": [
  {
   "cell_type": "code",
   "execution_count": 1,
   "metadata": {},
   "outputs": [],
   "source": [
    "from generate_network import *"
   ]
  },
  {
   "cell_type": "code",
   "execution_count": 2,
   "metadata": {},
   "outputs": [],
   "source": [
    "import numpy as np"
   ]
  },
  {
   "cell_type": "code",
   "execution_count": 93,
   "metadata": {},
   "outputs": [],
   "source": [
    "class SBM(Erdos_Renyi_GNP):\n",
    "    def __init__(self, N, p_in, p_out, k, A = None, self_edges = False, one_hot = None):\n",
    "        \n",
    "        self.p_in = p_in\n",
    "        self.p_out = p_out\n",
    "        self.N = N\n",
    "        \n",
    "        self.n = N//k\n",
    "        if one_hot is None:\n",
    "            self.one_hot = np.zeros((self.N, k))\n",
    "\n",
    "            for dim in range(k):\n",
    "                self.one_hot[(self.n*dim):(self.n*(dim + 1)), dim] = 1\n",
    "        else: self.one_hot = one_hot\n",
    "            \n",
    "        self.in_mask = self.one_hot @ self.one_hot.T\n",
    "        self.out_mask = 1 - self.in_mask\n",
    "        \n",
    "        self.A_in = Erdos_Renyi_GNP(self.N, self.p_in).A * self.in_mask\n",
    "        self.A_out = Erdos_Renyi_GNP(self.N, self.p_out).A * self.out_mask\n",
    "        \n",
    "        self.inside_edges = np.argwhere(np.triu(self.A_in) != 0)\n",
    "        self.outside_edges = np.argwhere(np.triu(self.A_out) != 0)\n",
    "        \n",
    "        self.potential_inside_edges = np.argwhere((np.triu(1 - self.A_in) * self.in_mask - diag(ones(self.N)) != 0))\n",
    "        self.potential_outside_edges = np.argwhere((np.triu(1 - self.A_out) * self.out_mask != 0))\n",
    "        \n",
    "        self.A = self.A_in + self.A_out\n",
    "        \n",
    "        Erdos_Renyi_GNP.__init__(self, N, 0, A = self.A) \n",
    "        \n",
    "        \n",
    "        \n",
    "        "
   ]
  },
  {
   "cell_type": "code",
   "execution_count": 101,
   "metadata": {},
   "outputs": [],
   "source": [
    "G = SBM(100, 0, 0.5, 100)"
   ]
  },
  {
   "cell_type": "code",
   "execution_count": 102,
   "metadata": {},
   "outputs": [
    {
     "data": {
      "text/plain": [
       "<matplotlib.image.AxesImage at 0x202fb3738e0>"
      ]
     },
     "execution_count": 102,
     "metadata": {},
     "output_type": "execute_result"
    },
    {
     "data": {
      "image/png": "[encoded data removed]",
      "text/plain": [
       "<Figure size 432x288 with 1 Axes>"
      ]
     },
     "metadata": {
      "needs_background": "light"
     },
     "output_type": "display_data"
    }
   ],
   "source": [
    "plt.spy(G.A)"
   ]
  },
  {
   "cell_type": "code",
   "execution_count": 97,
   "metadata": {},
   "outputs": [
    {
     "data": {
      "text/plain": [
       "(4903, 2)"
      ]
     },
     "execution_count": 97,
     "metadata": {},
     "output_type": "execute_result"
    }
   ],
   "source": [
    "G.potential_edges.shape"
   ]
  },
  {
   "cell_type": "code",
   "execution_count": 88,
   "metadata": {},
   "outputs": [
    {
     "data": {
      "text/plain": [
       "4000"
      ]
     },
     "execution_count": 88,
     "metadata": {},
     "output_type": "execute_result"
    }
   ],
   "source": [
    "G.outside_edges.shape[0] + G.potential_outside_edges.shape[0]"
   ]
  },
  {
   "cell_type": "code",
   "execution_count": 77,
   "metadata": {},
   "outputs": [
    {
     "data": {
      "text/plain": [
       "4950.0"
      ]
     },
     "execution_count": 77,
     "metadata": {},
     "output_type": "execute_result"
    }
   ],
   "source": [
    "G.N * (G.N - 1)/2"
   ]
  },
  {
   "cell_type": "code",
   "execution_count": 49,
   "metadata": {},
   "outputs": [],
   "source": [
    "def one_hot(A, k):\n",
    "    N = A.shape[0]//k\n",
    "\n",
    "    one_hot = np.zeros((A.shape[0], k))\n",
    "    \n",
    "    for dim in range(k):\n",
    "        one_hot[(N*dim):(N*(dim + 1)), dim] = 1\n",
    "\n",
    "    return one_hot"
   ]
  },
  {
   "cell_type": "code",
   "execution_count": 84,
   "metadata": {},
   "outputs": [
    {
     "data": {
      "text/plain": [
       "array([[1., 0., 0.],\n",
       "       [1., 0., 0.],\n",
       "       [1., 0., 0.],\n",
       "       [1., 0., 0.],\n",
       "       [1., 0., 0.],\n",
       "       [1., 0., 0.],\n",
       "       [1., 0., 0.],\n",
       "       [1., 0., 0.],\n",
       "       [1., 0., 0.],\n",
       "       [1., 0., 0.],\n",
       "       [0., 1., 0.],\n",
       "       [0., 1., 0.],\n",
       "       [0., 1., 0.],\n",
       "       [0., 1., 0.],\n",
       "       [0., 1., 0.],\n",
       "       [0., 1., 0.],\n",
       "       [0., 1., 0.],\n",
       "       [0., 1., 0.],\n",
       "       [0., 1., 0.],\n",
       "       [0., 1., 0.],\n",
       "       [0., 0., 1.],\n",
       "       [0., 0., 1.],\n",
       "       [0., 0., 1.],\n",
       "       [0., 0., 1.],\n",
       "       [0., 0., 1.],\n",
       "       [0., 0., 1.],\n",
       "       [0., 0., 1.],\n",
       "       [0., 0., 1.],\n",
       "       [0., 0., 1.],\n",
       "       [0., 0., 1.]])"
      ]
     },
     "execution_count": 84,
     "metadata": {},
     "output_type": "execute_result"
    }
   ],
   "source": [
    "one_hot(np.zeros((30, 30)), 3)"
   ]
  },
  {
   "cell_type": "code",
   "execution_count": null,
   "metadata": {},
   "outputs": [],
   "source": []
  }
 ],
 "metadata": {
  "kernelspec": {
   "display_name": "Python 3",
   "language": "python",
   "name": "python3"
  },
  "language_info": {
   "codemirror_mode": {
    "name": "ipython",
    "version": 3
   },
   "file_extension": ".py",
   "mimetype": "text/x-python",
   "name": "python",
   "nbconvert_exporter": "python",
   "pygments_lexer": "ipython3",
   "version": "3.8.3"
  }
 },
 "nbformat": 4,
 "nbformat_minor": 4
}
