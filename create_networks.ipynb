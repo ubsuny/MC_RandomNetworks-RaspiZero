{
 "cells": [
  {
   "cell_type": "markdown",
   "metadata": {},
   "source": [
    "#### Creating Erdos-Renyi networks"
   ]
  },
  {
   "cell_type": "markdown",
   "metadata": {},
   "source": [
    "---"
   ]
  },
  {
   "cell_type": "code",
   "execution_count": 1,
   "metadata": {},
   "outputs": [],
   "source": [
    "import numpy as np\n",
    "from matplotlib import pyplot as plt"
   ]
  },
  {
   "cell_type": "code",
   "execution_count": 2,
   "metadata": {},
   "outputs": [],
   "source": [
    "class Erdos_Renyi_GNP:\n",
    "    def __init__(self, N, p, A = None, self_edges = False):\n",
    "        \n",
    "        \n",
    "        '''\n",
    "            N -> the number of nodes, N >= 2, or vertices.  This must be declared on start-up to create a graph.\n",
    "            p -> the probability on [0, 1] an edge forms between two nodes.  This must be declared on start-up.\n",
    "            self_edges -> a Boolean whether or not a node can connect to itself.  In most applications, no.\n",
    "        \n",
    "        '''\n",
    "        \n",
    "        self.N = N\n",
    "        self.p = p\n",
    "        \n",
    "        '''\n",
    "            A -> the adjacency matrix, or the representation of all edge connections.  Index 0 refers to Node 0.\n",
    "            D -> the degree matrix, or the sum of A of only one axes.  If 0, unconnected.  If N - 1, fully connected.\n",
    "            L -> the Laplacian matrix as defined by L = D - A.  This allows for spectral analysis.\n",
    "            M -> the total number of edges by summing A and then dividing by 2, since it mirrors across the diagonal.\n",
    "        \n",
    "        '''\n",
    "        \n",
    "        # This basically creates the adjacency matrix by creating an N x N random array\n",
    "        # which has values from [0, 1].  So, it should be probabilistic enough to use < p\n",
    "        # to remove all values greater than that.  Taking the upper triangular (triu)\n",
    "        # allows us to force symmetry.  Although, this is one source of error\n",
    "        # because it interrupts the probabilistic process.\n",
    "        if A == None:\n",
    "            self.A = np.triu(np.array(np.random.rand(N, N) < p, dtype = int))\n",
    "            if self_edges == False:\n",
    "\n",
    "                # If there are no self edges, we remove the diagonal\n",
    "                # since entry [0, 0] for example refers to Node0 <-> Node0.\n",
    "                self.A = self.A + self.A.T - 2*np.diag(np.diag(self.A))\n",
    "\n",
    "            else:\n",
    "                self.A = self.A + self.A.T - np.diag(np.diag(self.A))\n",
    "        else:\n",
    "            self.A = A\n",
    "        \n",
    "        # This sums the elements vertically then puts them in the diagonals\n",
    "        # of a zero array.\n",
    "        self.D = np.diag(np.sum(self.A, axis = 1))\n",
    "        self.L = self.D - self.A\n",
    "        \n",
    "        # Since we assume this matrix is non-directional, then the lower and upper parts\n",
    "        # have the same values, so we must divide by two after summing.\n",
    "        self.M = np.sum(self.A)/2\n",
    "        \n",
    "        self.edges = np.argwhere(np.triu(self.A) != 0)\n",
    "        self.potential_edges = np.argwhere((np.triu(1 - self.A) - np.diag(np.ones(self.N)) != 0))\n",
    "     \n",
    "    def plot_graph(self, figsize = (4, 4)):\n",
    "        \n",
    "        fig, ax = plt.subplots(1, 1, figsize = figsize)\n",
    "        \n",
    "        ax.spy(self.A)\n",
    "        \n",
    "        ax.set_ylabel('node ID, $y$', fontsize = 12)\n",
    "        ax.set_xlabel('node ID, $x$', fontsize = 12)\n",
    "        ax.xaxis.set_label_coords(0.5, 1.175)\n",
    "        \n",
    "        return fig, ax\n",
    "    \n",
    "    def rewire_graph(self):\n",
    "        \n",
    "        # Choose at random since ER\n",
    "        idx = np.random.randint(self.edges.shape[0])\n",
    "        \n",
    "        # Remove\n",
    "        r_ij, r_ji = self.edges[idx]\n",
    "        A_ij, A_ji = self.A[r_ij, r_ji].copy(), self.A[r_ji, r_ij].copy()\n",
    "        \n",
    "        self.A[r_ij, r_ji] = 0\n",
    "        self.A[r_ji, r_ij] = 0\n",
    "        \n",
    "        self.potential_edges = np.append(self.potential_edges, self.edges[idx].reshape(1, 2), axis = 0)\n",
    "        self.edges = np.delete(self.edges, idx, axis = 0)\n",
    "        \n",
    "        potential_idx = np.random.randint(self.potential_edges.shape[0])\n",
    "        \n",
    "        a_ij, a_ji = self.potential_edges[potential_idx]\n",
    " \n",
    "        self.A[a_ij, a_ji] = A_ij\n",
    "        self.A[a_ji, a_ij] = A_ji\n",
    "        \n",
    "        self.edges = np.append(self.edges, self.potential_edges[potential_idx].reshape(1, 2), axis = 0)\n",
    "        self.potential_edges = np.delete(self.potential_edges, potential_idx, axis = 0)\n",
    "        \n",
    "        self.M = self.edges.shape[0]\n",
    "    "
   ]
  },
  {
   "cell_type": "code",
   "execution_count": 13,
   "metadata": {},
   "outputs": [],
   "source": [
    "N = 50; p = 0.5\n",
    "g0 = Erdos_Renyi_GNP(N, p)"
   ]
  },
  {
   "cell_type": "code",
   "execution_count": 14,
   "metadata": {},
   "outputs": [],
   "source": [
    "A0 = g0.A.copy()"
   ]
  },
  {
   "cell_type": "code",
   "execution_count": 15,
   "metadata": {},
   "outputs": [],
   "source": [
    "g0.rewire_graph()"
   ]
  },
  {
   "cell_type": "code",
   "execution_count": 17,
   "metadata": {},
   "outputs": [
    {
     "data": {
      "text/plain": [
       "<matplotlib.image.AxesImage at 0x7f1df6af4090>"
      ]
     },
     "execution_count": 17,
     "metadata": {},
     "output_type": "execute_result"
    },
    {
     "data": {
      "image/png": "[encoded data removed]",
      "text/plain": [
       "<Figure size 432x288 with 1 Axes>"
      ]
     },
     "metadata": {
      "needs_background": "light"
     },
     "output_type": "display_data"
    }
   ],
   "source": [
    "plt.imshow(A0 - g0.A)"
   ]
  },
  {
   "cell_type": "code",
   "execution_count": 4,
   "metadata": {},
   "outputs": [
    {
     "data": {
      "image/png": "[encoded data removed]",
      "text/plain": [
       "<Figure size 288x288 with 1 Axes>"
      ]
     },
     "metadata": {
      "needs_background": "light"
     },
     "output_type": "display_data"
    }
   ],
   "source": [
    "fig, ax = g0.plot_graph()"
   ]
  },
  {
   "cell_type": "markdown",
   "metadata": {},
   "source": [
    "#### Basic Monte Carlo"
   ]
  },
  {
   "cell_type": "code",
   "execution_count": 135,
   "metadata": {},
   "outputs": [],
   "source": [
    "Ms = []\n",
    "Nd = []\n",
    "\n",
    "for i in range(100):\n",
    "    g = Erdos_Renyi_GNP(N, p)\n",
    "    Ms.append(g.M)\n",
    "    \n",
    "    d = np.diag(g.D)\n",
    "    Nd.append(np.average(d))"
   ]
  },
  {
   "cell_type": "code",
   "execution_count": 136,
   "metadata": {},
   "outputs": [
    {
     "data": {
      "image/png": "[encoded data removed]",
      "text/plain": [
       "<Figure size 432x288 with 1 Axes>"
      ]
     },
     "metadata": {
      "needs_background": "light"
     },
     "output_type": "display_data"
    }
   ],
   "source": [
    "plt.hist(Nd, 25);"
   ]
  },
  {
   "cell_type": "markdown",
   "metadata": {},
   "source": [
    "Note that the expected number of edges $\\bar{M}$ for this configuration is simply\n",
    "\n",
    "\\begin{equation}\n",
    "\\bar{M} = \\dfrac{N(N - 1)}{2} \\cdot p\n",
    "\\end{equation}"
   ]
  },
  {
   "cell_type": "code",
   "execution_count": 132,
   "metadata": {},
   "outputs": [
    {
     "data": {
      "text/plain": [
       "124.53720000000003"
      ]
     },
     "execution_count": 132,
     "metadata": {},
     "output_type": "execute_result"
    }
   ],
   "source": [
    "np.average(Nd)"
   ]
  },
  {
   "cell_type": "code",
   "execution_count": 119,
   "metadata": {},
   "outputs": [
    {
     "data": {
      "text/plain": [
       "0.006976678796218156"
      ]
     },
     "execution_count": 119,
     "metadata": {},
     "output_type": "execute_result"
    }
   ],
   "source": [
    "np.std(Nd)/np.sqrt(10000)"
   ]
  },
  {
   "cell_type": "markdown",
   "metadata": {},
   "source": [
    "because $N(N - 1)/2$ is the total possible number of edges (which comes from removing the diagonal) and $p$ is then the probability an edge forms."
   ]
  },
  {
   "cell_type": "code",
   "execution_count": 80,
   "metadata": {},
   "outputs": [
    {
     "data": {
      "text/plain": [
       "(612.6393344812357, 612.2910855187642)"
      ]
     },
     "execution_count": 80,
     "metadata": {},
     "output_type": "execute_result"
    }
   ],
   "source": [
    "np.mean(Ms) + np.std(Ms)/np.sqrt(10000), np.mean(Ms) - np.std(Ms)/np.sqrt(10000)"
   ]
  },
  {
   "cell_type": "code",
   "execution_count": 81,
   "metadata": {},
   "outputs": [
    {
     "data": {
      "text/plain": [
       "0.17412448123566654"
      ]
     },
     "execution_count": 81,
     "metadata": {},
     "output_type": "execute_result"
    }
   ],
   "source": [
    "np.std(Ms)/np.sqrt(10000)"
   ]
  },
  {
   "cell_type": "code",
   "execution_count": 82,
   "metadata": {},
   "outputs": [
    {
     "data": {
      "text/plain": [
       "612.5"
      ]
     },
     "execution_count": 82,
     "metadata": {},
     "output_type": "execute_result"
    }
   ],
   "source": [
    "N*(N - 1)/2 * p"
   ]
  },
  {
   "cell_type": "code",
   "execution_count": 62,
   "metadata": {},
   "outputs": [
    {
     "data": {
      "text/plain": [
       "array([0, 1, 0, 0, 1, 1, 0, 1, 1, 1, 1, 1, 0, 1, 0, 1, 0, 0, 0, 0, 0, 1,\n",
       "       1, 1, 1, 0, 1, 1, 1, 1, 0, 0, 0, 1, 0, 0, 1, 1, 1, 0, 1, 1, 1, 0,\n",
       "       1, 1, 0, 1, 0, 0])"
      ]
     },
     "execution_count": 62,
     "metadata": {},
     "output_type": "execute_result"
    }
   ],
   "source": [
    "np.diag(g.A)"
   ]
  },
  {
   "cell_type": "code",
   "execution_count": null,
   "metadata": {},
   "outputs": [],
   "source": []
  }
 ],
 "metadata": {
  "kernelspec": {
   "display_name": "Python 3",
   "language": "python",
   "name": "python3"
  },
  "language_info": {
   "codemirror_mode": {
    "name": "ipython",
    "version": 3
   },
   "file_extension": ".py",
   "mimetype": "text/x-python",
   "name": "python",
   "nbconvert_exporter": "python",
   "pygments_lexer": "ipython3",
   "version": "3.7.4"
  }
 },
 "nbformat": 4,
 "nbformat_minor": 2
}
