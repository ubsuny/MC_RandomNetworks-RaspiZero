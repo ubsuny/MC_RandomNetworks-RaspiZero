{
 "cells": [
  {
   "cell_type": "markdown",
   "metadata": {},
   "source": [
    "#### Creating Erdos-Renyi networks"
   ]
  },
  {
   "cell_type": "markdown",
   "metadata": {},
   "source": [
    "---"
   ]
  },
  {
   "cell_type": "code",
   "execution_count": 28,
   "metadata": {},
   "outputs": [],
   "source": [
    "import numpy as np\n",
    "from matplotlib import pyplot as plt"
   ]
  },
  {
   "cell_type": "code",
   "execution_count": 3,
   "metadata": {},
   "outputs": [],
   "source": [
    "N = 100"
   ]
  },
  {
   "cell_type": "code",
   "execution_count": 8,
   "metadata": {},
   "outputs": [
    {
     "data": {
      "text/plain": [
       "array([[1, 1, 1, ..., 1, 1, 1],\n",
       "       [1, 1, 1, ..., 1, 1, 1],\n",
       "       [1, 1, 1, ..., 1, 1, 1],\n",
       "       ...,\n",
       "       [1, 1, 1, ..., 1, 1, 1],\n",
       "       [1, 1, 1, ..., 1, 1, 1],\n",
       "       [1, 1, 1, ..., 1, 1, 1]])"
      ]
     },
     "execution_count": 8,
     "metadata": {},
     "output_type": "execute_result"
    }
   ],
   "source": [
    "np.array(np.random.rand(N,N)<1, dtype = int)"
   ]
  },
  {
   "cell_type": "code",
   "execution_count": 63,
   "metadata": {},
   "outputs": [],
   "source": [
    "class Erdos_Renyi_GNP:\n",
    "    def __init__(self, N, p, self_edges = False):\n",
    "        \n",
    "        \n",
    "        '''\n",
    "            N -> the number of nodes, N >= 2, or vertices.  This must be declared on start-up to create a graph.\n",
    "            p -> the probability on [0, 1] an edge forms between two nodes.  This must be declared on start-up.\n",
    "            self_edges -> a Boolean whether or not a node can connect to itself.  In most applications, no.\n",
    "        \n",
    "        '''\n",
    "        \n",
    "        self.N = N\n",
    "        self.p = p\n",
    "        \n",
    "        '''\n",
    "            A -> the adjacency matrix, or the representation of all edge connections.  Index 0 refers to Node 0.\n",
    "            D -> the degree matrix, or the sum of A of only one axes.  If 0, unconnected.  If N - 1, fully connected.\n",
    "            L -> the Laplacian matrix as defined by L = D - A.  This allows for spectral analysis.\n",
    "            M -> the total number of edges by summing A and then dividing by 2, since it mirrors across the diagonal.\n",
    "        \n",
    "        '''\n",
    "        \n",
    "        # This basically creates the adjacency matrix by creating an N x N random array\n",
    "        # which has values from [0, 1].  So, it should be probabilistic enough to use < p\n",
    "        # to remove all values greater than that.  Taking the upper triangular (triu)\n",
    "        # allows us to force symmetry.  Although, this is one source of error\n",
    "        # because it interrupts the probabilistic process.\n",
    "        self.A = np.triu(np.array(np.random.rand(N, N) < p, dtype = int))\n",
    "        if self_edges == False:\n",
    "            \n",
    "            # If there are no self edges, we remove the diagonal\n",
    "            # since entry [0, 0] for example refers to Node0 <-> Node0.\n",
    "            self.A = self.A + self.A.T - 2*np.diag(np.diag(self.A))\n",
    "            \n",
    "        else:\n",
    "            self.A = self.A + self.A.T - np.diag(np.diag(self.A))\n",
    "        \n",
    "        # This sums the elements vertically then puts them in the diagonals\n",
    "        # of a zero array.\n",
    "        self.D = np.diag(np.sum(self.A, axis = 1))\n",
    "        self.L = self.D - self.A\n",
    "        \n",
    "        # Since we assume this matrix is non-directional, then the lower and upper parts\n",
    "        # have the same values, so we must divide by two after summing.\n",
    "        self.M = np.sum(self.A)/2"
   ]
  },
  {
   "cell_type": "code",
   "execution_count": 41,
   "metadata": {},
   "outputs": [],
   "source": [
    "N = 50; p = 0.5\n",
    "g0 = Erdos_Renyi_GNP(N, p)"
   ]
  },
  {
   "cell_type": "code",
   "execution_count": 42,
   "metadata": {},
   "outputs": [
    {
     "data": {
      "text/plain": [
       "<matplotlib.image.AxesImage at 0x7f7dbc8b8c90>"
      ]
     },
     "execution_count": 42,
     "metadata": {},
     "output_type": "execute_result"
    },
    {
     "data": {
      "image/png": "[encoded data removed]",
      "text/plain": [
       "<Figure size 432x288 with 1 Axes>"
      ]
     },
     "metadata": {
      "needs_background": "light"
     },
     "output_type": "display_data"
    }
   ],
   "source": [
    "plt.spy(g0.A)"
   ]
  },
  {
   "cell_type": "code",
   "execution_count": 37,
   "metadata": {},
   "outputs": [
    {
     "data": {
      "text/plain": [
       "28.0"
      ]
     },
     "execution_count": 37,
     "metadata": {},
     "output_type": "execute_result"
    }
   ],
   "source": [
    "g0.M"
   ]
  },
  {
   "cell_type": "code",
   "execution_count": 78,
   "metadata": {},
   "outputs": [],
   "source": [
    "Ms = []\n",
    "\n",
    "for i in range(100000):\n",
    "    g = Erdos_Renyi_GNP(N, p)\n",
    "    Ms.append(g.M)"
   ]
  },
  {
   "cell_type": "code",
   "execution_count": 79,
   "metadata": {},
   "outputs": [
    {
     "data": {
      "image/png": "[encoded data removed]",
      "text/plain": [
       "<Figure size 432x288 with 1 Axes>"
      ]
     },
     "metadata": {
      "needs_background": "light"
     },
     "output_type": "display_data"
    }
   ],
   "source": [
    "plt.hist(Ms, 25);"
   ]
  },
  {
   "cell_type": "markdown",
   "metadata": {},
   "source": [
    "Note that the expected number of edges $\\bar{M}$ for this configuration is simply\n",
    "\n",
    "\\begin{equation}\n",
    "\\bar{M} = \\dfrac{N(N - 1)}{2} \\cdot p\n",
    "\\end{equation}"
   ]
  },
  {
   "cell_type": "markdown",
   "metadata": {},
   "source": [
    "because $N(N - 1)/2$ is the total possible number of edges (which comes from removing the diagonal) and $p$ is then the probability an edge forms."
   ]
  },
  {
   "cell_type": "code",
   "execution_count": 80,
   "metadata": {},
   "outputs": [
    {
     "data": {
      "text/plain": [
       "(612.6393344812357, 612.2910855187642)"
      ]
     },
     "execution_count": 80,
     "metadata": {},
     "output_type": "execute_result"
    }
   ],
   "source": [
    "np.mean(Ms) + np.std(Ms)/np.sqrt(10000), np.mean(Ms) - np.std(Ms)/np.sqrt(10000)"
   ]
  },
  {
   "cell_type": "code",
   "execution_count": 81,
   "metadata": {},
   "outputs": [
    {
     "data": {
      "text/plain": [
       "0.17412448123566654"
      ]
     },
     "execution_count": 81,
     "metadata": {},
     "output_type": "execute_result"
    }
   ],
   "source": [
    "np.std(Ms)/np.sqrt(10000)"
   ]
  },
  {
   "cell_type": "code",
   "execution_count": 82,
   "metadata": {},
   "outputs": [
    {
     "data": {
      "text/plain": [
       "612.5"
      ]
     },
     "execution_count": 82,
     "metadata": {},
     "output_type": "execute_result"
    }
   ],
   "source": [
    "N*(N - 1)/2 * p"
   ]
  },
  {
   "cell_type": "code",
   "execution_count": 83,
   "metadata": {},
   "outputs": [
    {
     "data": {
      "text/plain": [
       "<matplotlib.image.AxesImage at 0x7f7db0810d90>"
      ]
     },
     "execution_count": 83,
     "metadata": {},
     "output_type": "execute_result"
    },
    {
     "data": {
      "image/png": "[encoded data removed]",
      "text/plain": [
       "<Figure size 432x288 with 1 Axes>"
      ]
     },
     "metadata": {
      "needs_background": "light"
     },
     "output_type": "display_data"
    }
   ],
   "source": [
    "plt.spy(g.A)"
   ]
  },
  {
   "cell_type": "code",
   "execution_count": 62,
   "metadata": {},
   "outputs": [
    {
     "data": {
      "text/plain": [
       "array([0, 1, 0, 0, 1, 1, 0, 1, 1, 1, 1, 1, 0, 1, 0, 1, 0, 0, 0, 0, 0, 1,\n",
       "       1, 1, 1, 0, 1, 1, 1, 1, 0, 0, 0, 1, 0, 0, 1, 1, 1, 0, 1, 1, 1, 0,\n",
       "       1, 1, 0, 1, 0, 0])"
      ]
     },
     "execution_count": 62,
     "metadata": {},
     "output_type": "execute_result"
    }
   ],
   "source": [
    "np.diag(g.A)"
   ]
  },
  {
   "cell_type": "code",
   "execution_count": null,
   "metadata": {},
   "outputs": [],
   "source": []
  }
 ],
 "metadata": {
  "kernelspec": {
   "display_name": "Python 3",
   "language": "python",
   "name": "python3"
  },
  "language_info": {
   "codemirror_mode": {
    "name": "ipython",
    "version": 3
   },
   "file_extension": ".py",
   "mimetype": "text/x-python",
   "name": "python",
   "nbconvert_exporter": "python",
   "pygments_lexer": "ipython3",
   "version": "3.7.4"
  }
 },
 "nbformat": 4,
 "nbformat_minor": 2
}
